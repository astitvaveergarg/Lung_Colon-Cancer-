{
 "cells": [
  {
   "cell_type": "code",
   "execution_count": 23,
   "metadata": {},
   "outputs": [],
   "source": [
    "import os\n",
    "import cv2\n",
    "from tqdm import tqdm\n",
    "from sklearn.model_selection import train_test_split\n",
    "import matplotlib.pyplot as plt\n",
    "import tensorflow as tf\n",
    "from keras import layers, models, regularizers\n",
    "import tensorflow as tf\n",
    "from sklearn.metrics import confusion_matrix\n"
   ]
  },
  {
   "cell_type": "code",
   "execution_count": 6,
   "metadata": {},
   "outputs": [],
   "source": [
    "loc1 = './lung_image_sets'\n",
    "loc2 = './colon_image_sets'"
   ]
  },
  {
   "cell_type": "code",
   "execution_count": 7,
   "metadata": {},
   "outputs": [
    {
     "name": "stdout",
     "output_type": "stream",
     "text": [
      "./lung_image_sets/lung_scc\n",
      "*************\n"
     ]
    },
    {
     "name": "stderr",
     "output_type": "stream",
     "text": [
      "100%|██████████| 5000/5000 [00:23<00:00, 214.46it/s]\n"
     ]
    },
    {
     "name": "stdout",
     "output_type": "stream",
     "text": [
      "./lung_image_sets/lung_aca\n",
      "*************\n"
     ]
    },
    {
     "name": "stderr",
     "output_type": "stream",
     "text": [
      "100%|██████████| 5000/5000 [00:30<00:00, 166.39it/s]\n"
     ]
    },
    {
     "name": "stdout",
     "output_type": "stream",
     "text": [
      "./lung_image_sets/lung_n\n",
      "*************\n"
     ]
    },
    {
     "name": "stderr",
     "output_type": "stream",
     "text": [
      "100%|██████████| 5000/5000 [01:39<00:00, 50.27it/s]\n"
     ]
    },
    {
     "name": "stdout",
     "output_type": "stream",
     "text": [
      "./colon_image_sets/colon_n\n",
      "*************\n"
     ]
    },
    {
     "name": "stderr",
     "output_type": "stream",
     "text": [
      "100%|██████████| 5000/5000 [00:39<00:00, 127.70it/s]\n"
     ]
    },
    {
     "name": "stdout",
     "output_type": "stream",
     "text": [
      "./colon_image_sets/colon_aca\n",
      "*************\n"
     ]
    },
    {
     "name": "stderr",
     "output_type": "stream",
     "text": [
      "100%|██████████| 5000/5000 [00:40<00:00, 122.69it/s]\n"
     ]
    }
   ],
   "source": [
    "features = []\n",
    "\n",
    "for dir in os.listdir(loc1):\n",
    "    sub_dir = os.path.join(loc1,dir)\n",
    "    print(sub_dir)\n",
    "    print('*************')\n",
    "    for img in tqdm(os.listdir(sub_dir)):\n",
    "        f = cv2.imread(os.path.join(sub_dir , img))\n",
    "        #f = cv2.cvtColor(f , cv2.COLOR_BGR2GRAY)\n",
    "        f = cv2.resize(f , (70,70))\n",
    "        features.append(f)\n",
    "        \n",
    "for dir in os.listdir(loc2):\n",
    "    sub_dir = os.path.join(loc2,dir)\n",
    "    print(sub_dir)\n",
    "    print('*************')\n",
    "    for img in tqdm(os.listdir(sub_dir)):\n",
    "        f = cv2.imread(os.path.join(sub_dir , img))\n",
    "        #f = cv2.cvtColor(f , cv2.COLOR_BGR2GRAY)\n",
    "        f = cv2.resize(f , (70,70))\n",
    "        features.append(f)"
   ]
  },
  {
   "cell_type": "code",
   "execution_count": 8,
   "metadata": {},
   "outputs": [
    {
     "name": "stdout",
     "output_type": "stream",
     "text": [
      "(25000, 70, 70, 3)\n"
     ]
    }
   ],
   "source": [
    "import numpy as np\n",
    "X = np.array(features)\n",
    "print(X.shape)\n"
   ]
  },
  {
   "cell_type": "code",
   "execution_count": 9,
   "metadata": {},
   "outputs": [
    {
     "name": "stdout",
     "output_type": "stream",
     "text": [
      "./lung_image_sets/lung_scc\n",
      "*************\n"
     ]
    },
    {
     "name": "stderr",
     "output_type": "stream",
     "text": [
      "100%|██████████| 5000/5000 [00:00<00:00, 2381233.11it/s]\n"
     ]
    },
    {
     "name": "stdout",
     "output_type": "stream",
     "text": [
      "./lung_image_sets/lung_aca\n",
      "*************\n"
     ]
    },
    {
     "name": "stderr",
     "output_type": "stream",
     "text": [
      "100%|██████████| 5000/5000 [00:00<00:00, 1488186.20it/s]\n"
     ]
    },
    {
     "name": "stdout",
     "output_type": "stream",
     "text": [
      "./lung_image_sets/lung_n\n",
      "*************\n"
     ]
    },
    {
     "name": "stderr",
     "output_type": "stream",
     "text": [
      "100%|██████████| 5000/5000 [00:00<00:00, 2320885.35it/s]\n"
     ]
    },
    {
     "name": "stdout",
     "output_type": "stream",
     "text": [
      "./colon_image_sets/colon_n\n",
      "*************\n"
     ]
    },
    {
     "name": "stderr",
     "output_type": "stream",
     "text": [
      "100%|██████████| 5000/5000 [00:00<00:00, 2346332.51it/s]\n"
     ]
    },
    {
     "name": "stdout",
     "output_type": "stream",
     "text": [
      "./colon_image_sets/colon_aca\n",
      "*************\n"
     ]
    },
    {
     "name": "stderr",
     "output_type": "stream",
     "text": [
      "100%|██████████| 5000/5000 [00:00<00:00, 2214755.52it/s]\n"
     ]
    }
   ],
   "source": [
    "labels = []\n",
    "i = 0\n",
    "\n",
    "for dir in os.listdir(loc1):\n",
    "    sub_dir = os.path.join(loc1,dir)\n",
    "    print(sub_dir)\n",
    "    print('*************')\n",
    "    for img in tqdm(os.listdir(sub_dir)):\n",
    "        labels.append(i)\n",
    "    i = i + 1\n",
    "    \n",
    "for dir in os.listdir(loc2):\n",
    "    sub_dir = os.path.join(loc2,dir)\n",
    "    print(sub_dir)\n",
    "    print('*************')\n",
    "    for img in tqdm(os.listdir(sub_dir)):\n",
    "        labels.append(i)\n",
    "    i = i + 1"
   ]
  },
  {
   "cell_type": "code",
   "execution_count": 10,
   "metadata": {},
   "outputs": [
    {
     "name": "stdout",
     "output_type": "stream",
     "text": [
      "(25000,)\n"
     ]
    }
   ],
   "source": [
    "Y = np.array(labels)\n",
    "print(Y.shape)"
   ]
  },
  {
   "cell_type": "code",
   "execution_count": 11,
   "metadata": {},
   "outputs": [],
   "source": [
    "xtrain,xtest,ytrain,ytest = train_test_split(X,Y)"
   ]
  },
  {
   "cell_type": "code",
   "execution_count": 12,
   "metadata": {},
   "outputs": [],
   "source": [
    "xtrain = xtrain/xtrain.max()\n",
    "xtest = xtest/xtest.max()"
   ]
  },
  {
   "cell_type": "code",
   "execution_count": 13,
   "metadata": {},
   "outputs": [
    {
     "data": {
      "image/png": "[encoded data removed]",
      "text/plain": [
       "<Figure size 640x480 with 1 Axes>"
      ]
     },
     "metadata": {},
     "output_type": "display_data"
    }
   ],
   "source": [
    "plt.imshow(xtrain[15600])\n",
    "plt.show()"
   ]
  },
  {
   "cell_type": "code",
   "execution_count": 14,
   "metadata": {},
   "outputs": [],
   "source": [
    "ytrain = tf.keras.utils.to_categorical(ytrain)\n",
    "ytest = tf.keras.utils.to_categorical(ytest)"
   ]
  },
  {
   "cell_type": "code",
   "execution_count": 15,
   "metadata": {},
   "outputs": [
    {
     "name": "stderr",
     "output_type": "stream",
     "text": [
      "2023-01-15 14:54:24.730894: I tensorflow/compiler/xla/stream_executor/cuda/cuda_gpu_executor.cc:981] successful NUMA node read from SysFS had negative value (-1), but there must be at least one NUMA node, so returning NUMA node zero\n",
      "2023-01-15 14:54:24.784571: W tensorflow/compiler/xla/stream_executor/platform/default/dso_loader.cc:64] Could not load dynamic library 'libcudnn.so.8'; dlerror: libcudnn.so.8: cannot open shared object file: No such file or directory; LD_LIBRARY_PATH: /home/samantha/.local/lib/python3.10/site-packages/cv2/../../lib64:\n",
      "2023-01-15 14:54:24.784599: W tensorflow/core/common_runtime/gpu/gpu_device.cc:1934] Cannot dlopen some GPU libraries. Please make sure the missing libraries mentioned above are installed properly if you would like to use GPU. Follow the guide at https://www.tensorflow.org/install/gpu for how to download and setup the required libraries for your platform.\n",
      "Skipping registering GPU devices...\n",
      "2023-01-15 14:54:24.785046: I tensorflow/core/platform/cpu_feature_guard.cc:193] This TensorFlow binary is optimized with oneAPI Deep Neural Network Library (oneDNN) to use the following CPU instructions in performance-critical operations:  AVX2 FMA\n",
      "To enable them in other operations, rebuild TensorFlow with the appropriate compiler flags.\n"
     ]
    }
   ],
   "source": [
    "model = models.Sequential()\n",
    "\n",
    "model.add(layers.Conv2D(32 ,(3,3) , padding = 'same' , input_shape = (70,70,3)))\n",
    "model.add(layers.Activation('relu'))\n",
    "model.add(layers.MaxPooling2D(pool_size=(2,2)))\n",
    "\n",
    "model.add(layers.Conv2D(64 ,(3,3) , padding = 'same'))\n",
    "model.add(layers.Activation('relu'))\n",
    "model.add(layers.MaxPooling2D(pool_size=(2,2)))\n",
    "\n",
    "model.add(layers.Conv2D(128 ,(3,3) , padding = 'same'))\n",
    "model.add(layers.Activation('relu'))\n",
    "model.add(layers.MaxPooling2D(pool_size=(2,2)))\n",
    "\n",
    "model.add(layers.Conv2D(256 ,(3,3) , padding = 'same'))\n",
    "model.add(layers.Activation('relu'))\n",
    "model.add(layers.MaxPooling2D(pool_size=(2,2)))\n",
    "\n",
    "model.add(layers.Conv2D(512 ,(3,3) , padding = 'same'))\n",
    "model.add(layers.Activation('relu'))\n",
    "model.add(layers.MaxPooling2D(pool_size=(2,2)))\n",
    "\n",
    "model.add(layers.Conv2D(1024 ,(3,3) , padding = 'same'))\n",
    "model.add(layers.Activation('relu'))\n",
    "model.add(layers.MaxPooling2D(pool_size=(2,2)))\n",
    "\n",
    "model.add(layers.Flatten())\n",
    "model.add(layers.Dense(512 , activation='relu' ))\n",
    "model.add(layers.Dense(5, activation='sigmoid') )"
   ]
  },
  {
   "cell_type": "code",
   "execution_count": 16,
   "metadata": {},
   "outputs": [
    {
     "name": "stdout",
     "output_type": "stream",
     "text": [
      "Model: \"sequential\"\n",
      "_________________________________________________________________\n",
      " Layer (type)                Output Shape              Param #   \n",
      "=================================================================\n",
      " conv2d (Conv2D)             (None, 70, 70, 32)        896       \n",
      "                                                                 \n",
      " activation (Activation)     (None, 70, 70, 32)        0         \n",
      "                                                                 \n",
      " max_pooling2d (MaxPooling2D  (None, 35, 35, 32)       0         \n",
      " )                                                               \n",
      "                                                                 \n",
      " conv2d_1 (Conv2D)           (None, 35, 35, 64)        18496     \n",
      "                                                                 \n",
      " activation_1 (Activation)   (None, 35, 35, 64)        0         \n",
      "                                                                 \n",
      " max_pooling2d_1 (MaxPooling  (None, 17, 17, 64)       0         \n",
      " 2D)                                                             \n",
      "                                                                 \n",
      " conv2d_2 (Conv2D)           (None, 17, 17, 128)       73856     \n",
      "                                                                 \n",
      " activation_2 (Activation)   (None, 17, 17, 128)       0         \n",
      "                                                                 \n",
      " max_pooling2d_2 (MaxPooling  (None, 8, 8, 128)        0         \n",
      " 2D)                                                             \n",
      "                                                                 \n",
      " conv2d_3 (Conv2D)           (None, 8, 8, 256)         295168    \n",
      "                                                                 \n",
      " activation_3 (Activation)   (None, 8, 8, 256)         0         \n",
      "                                                                 \n",
      " max_pooling2d_3 (MaxPooling  (None, 4, 4, 256)        0         \n",
      " 2D)                                                             \n",
      "                                                                 \n",
      " conv2d_4 (Conv2D)           (None, 4, 4, 512)         1180160   \n",
      "                                                                 \n",
      " activation_4 (Activation)   (None, 4, 4, 512)         0         \n",
      "                                                                 \n",
      " max_pooling2d_4 (MaxPooling  (None, 2, 2, 512)        0         \n",
      " 2D)                                                             \n",
      "                                                                 \n",
      " conv2d_5 (Conv2D)           (None, 2, 2, 1024)        4719616   \n",
      "                                                                 \n",
      " activation_5 (Activation)   (None, 2, 2, 1024)        0         \n",
      "                                                                 \n",
      " max_pooling2d_5 (MaxPooling  (None, 1, 1, 1024)       0         \n",
      " 2D)                                                             \n",
      "                                                                 \n",
      " flatten (Flatten)           (None, 1024)              0         \n",
      "                                                                 \n",
      " dense (Dense)               (None, 512)               524800    \n",
      "                                                                 \n",
      " dense_1 (Dense)             (None, 5)                 2565      \n",
      "                                                                 \n",
      "=================================================================\n",
      "Total params: 6,815,557\n",
      "Trainable params: 6,815,557\n",
      "Non-trainable params: 0\n",
      "_________________________________________________________________\n"
     ]
    }
   ],
   "source": [
    "model.summary()"
   ]
  },
  {
   "cell_type": "code",
   "execution_count": 17,
   "metadata": {},
   "outputs": [],
   "source": [
    "sgd = tf.keras.optimizers.SGD(0.01)\n",
    "model.compile(loss='categorical_crossentropy' , optimizer=sgd , metrics=['accuracy'])"
   ]
  },
  {
   "cell_type": "code",
   "execution_count": 18,
   "metadata": {},
   "outputs": [
    {
     "name": "stdout",
     "output_type": "stream",
     "text": [
      "Epoch 1/20\n"
     ]
    },
    {
     "name": "stderr",
     "output_type": "stream",
     "text": [
      "2023-01-15 14:54:25.736974: W tensorflow/tsl/framework/cpu_allocator_impl.cc:82] Allocation of 1102500000 exceeds 10% of free system memory.\n"
     ]
    },
    {
     "name": "stdout",
     "output_type": "stream",
     "text": [
      "586/586 [==============================] - ETA: 0s - loss: 1.3231 - accuracy: 0.3795"
     ]
    },
    {
     "name": "stderr",
     "output_type": "stream",
     "text": [
      "2023-01-15 14:57:22.349852: W tensorflow/tsl/framework/cpu_allocator_impl.cc:82] Allocation of 367500000 exceeds 10% of free system memory.\n"
     ]
    },
    {
     "name": "stdout",
     "output_type": "stream",
     "text": [
      "586/586 [==============================] - 182s 309ms/step - loss: 1.3231 - accuracy: 0.3795 - val_loss: 1.0942 - val_accuracy: 0.4152\n",
      "Epoch 2/20\n",
      "586/586 [==============================] - 181s 309ms/step - loss: 0.8748 - accuracy: 0.6056 - val_loss: 1.2064 - val_accuracy: 0.3938\n",
      "Epoch 3/20\n",
      "586/586 [==============================] - 199s 340ms/step - loss: 0.6664 - accuracy: 0.7094 - val_loss: 0.4834 - val_accuracy: 0.8024\n",
      "Epoch 4/20\n",
      "586/586 [==============================] - 182s 310ms/step - loss: 0.5385 - accuracy: 0.7634 - val_loss: 0.5628 - val_accuracy: 0.7267\n",
      "Epoch 5/20\n",
      "586/586 [==============================] - 181s 309ms/step - loss: 0.4876 - accuracy: 0.7897 - val_loss: 0.6479 - val_accuracy: 0.7227\n",
      "Epoch 6/20\n",
      "586/586 [==============================] - 181s 308ms/step - loss: 0.4058 - accuracy: 0.8281 - val_loss: 0.3521 - val_accuracy: 0.8574\n",
      "Epoch 7/20\n",
      "586/586 [==============================] - 182s 310ms/step - loss: 0.3746 - accuracy: 0.8503 - val_loss: 0.2751 - val_accuracy: 0.8968\n",
      "Epoch 8/20\n",
      "586/586 [==============================] - 181s 309ms/step - loss: 0.3299 - accuracy: 0.8673 - val_loss: 0.3591 - val_accuracy: 0.8504\n",
      "Epoch 9/20\n",
      "586/586 [==============================] - 181s 309ms/step - loss: 0.2874 - accuracy: 0.8882 - val_loss: 0.2380 - val_accuracy: 0.9154\n",
      "Epoch 10/20\n",
      "586/586 [==============================] - 181s 309ms/step - loss: 0.2531 - accuracy: 0.9032 - val_loss: 0.2096 - val_accuracy: 0.9307\n",
      "Epoch 11/20\n",
      "586/586 [==============================] - 180s 308ms/step - loss: 0.2652 - accuracy: 0.9003 - val_loss: 0.2332 - val_accuracy: 0.9154\n",
      "Epoch 12/20\n",
      "586/586 [==============================] - 181s 309ms/step - loss: 0.2555 - accuracy: 0.9063 - val_loss: 0.2853 - val_accuracy: 0.8784\n",
      "Epoch 13/20\n",
      "586/586 [==============================] - 181s 308ms/step - loss: 0.2137 - accuracy: 0.9179 - val_loss: 0.2785 - val_accuracy: 0.8920\n",
      "Epoch 14/20\n",
      "586/586 [==============================] - 180s 308ms/step - loss: 0.1930 - accuracy: 0.9276 - val_loss: 0.1772 - val_accuracy: 0.9331\n",
      "Epoch 15/20\n",
      "586/586 [==============================] - 180s 308ms/step - loss: 0.1769 - accuracy: 0.9346 - val_loss: 0.1617 - val_accuracy: 0.9397\n",
      "Epoch 16/20\n",
      "586/586 [==============================] - 180s 308ms/step - loss: 0.1622 - accuracy: 0.9389 - val_loss: 0.1395 - val_accuracy: 0.9493\n",
      "Epoch 17/20\n",
      "586/586 [==============================] - 181s 308ms/step - loss: 0.1520 - accuracy: 0.9444 - val_loss: 0.1344 - val_accuracy: 0.9512\n",
      "Epoch 18/20\n",
      "586/586 [==============================] - 180s 308ms/step - loss: 0.1476 - accuracy: 0.9461 - val_loss: 0.1245 - val_accuracy: 0.9566\n",
      "Epoch 19/20\n",
      "586/586 [==============================] - 181s 308ms/step - loss: 0.1396 - accuracy: 0.9505 - val_loss: 0.1291 - val_accuracy: 0.9525\n",
      "Epoch 20/20\n",
      "586/586 [==============================] - 180s 308ms/step - loss: 0.1314 - accuracy: 0.9524 - val_loss: 0.1525 - val_accuracy: 0.9358\n"
     ]
    },
    {
     "data": {
      "text/plain": [
       "<keras.callbacks.History at 0x7f1f4b315db0>"
      ]
     },
     "execution_count": 18,
     "metadata": {},
     "output_type": "execute_result"
    }
   ],
   "source": [
    "model.fit(xtrain,ytrain,\n",
    "         epochs=20,\n",
    "         validation_data=(xtest,ytest))"
   ]
  },
  {
   "cell_type": "code",
   "execution_count": 19,
   "metadata": {},
   "outputs": [
    {
     "name": "stdout",
     "output_type": "stream",
     "text": [
      "  1/586 [..............................] - ETA: 28s - loss: 0.0770 - accuracy: 0.9375"
     ]
    },
    {
     "name": "stderr",
     "output_type": "stream",
     "text": [
      "2023-01-15 15:58:07.955136: W tensorflow/tsl/framework/cpu_allocator_impl.cc:82] Allocation of 1102500000 exceeds 10% of free system memory.\n"
     ]
    },
    {
     "name": "stdout",
     "output_type": "stream",
     "text": [
      "586/586 [==============================] - 16s 28ms/step - loss: 0.1371 - accuracy: 0.9433\n"
     ]
    },
    {
     "data": {
      "text/plain": [
       "[0.13713835179805756, 0.9433066844940186]"
      ]
     },
     "execution_count": 19,
     "metadata": {},
     "output_type": "execute_result"
    }
   ],
   "source": [
    "model.evaluate(xtrain,ytrain)"
   ]
  },
  {
   "cell_type": "code",
   "execution_count": 20,
   "metadata": {},
   "outputs": [
    {
     "name": "stdout",
     "output_type": "stream",
     "text": [
      "  5/196 [..............................] - ETA: 5s - loss: 0.1668 - accuracy: 0.9375"
     ]
    },
    {
     "name": "stderr",
     "output_type": "stream",
     "text": [
      "2023-01-15 15:59:26.549050: W tensorflow/tsl/framework/cpu_allocator_impl.cc:82] Allocation of 367500000 exceeds 10% of free system memory.\n"
     ]
    },
    {
     "name": "stdout",
     "output_type": "stream",
     "text": [
      "196/196 [==============================] - 5s 28ms/step - loss: 0.1525 - accuracy: 0.9358\n"
     ]
    },
    {
     "data": {
      "text/plain": [
       "[0.15245670080184937, 0.9358400106430054]"
      ]
     },
     "execution_count": 20,
     "metadata": {},
     "output_type": "execute_result"
    }
   ],
   "source": [
    "model.evaluate(xtest,ytest)"
   ]
  },
  {
   "cell_type": "code",
   "execution_count": 21,
   "metadata": {},
   "outputs": [
    {
     "name": "stderr",
     "output_type": "stream",
     "text": [
      "2023-01-15 15:59:48.120100: W tensorflow/tsl/framework/cpu_allocator_impl.cc:82] Allocation of 1102500000 exceeds 10% of free system memory.\n"
     ]
    },
    {
     "name": "stdout",
     "output_type": "stream",
     "text": [
      "586/586 [==============================] - 17s 28ms/step\n"
     ]
    }
   ],
   "source": [
    "ytrainR = [np.argmax(val) for val in ytrain]\n",
    "ytrainP = [np.argmax(val) for val in model.predict(xtrain)]"
   ]
  },
  {
   "cell_type": "code",
   "execution_count": 22,
   "metadata": {},
   "outputs": [
    {
     "name": "stdout",
     "output_type": "stream",
     "text": [
      "196/196 [==============================] - 5s 28ms/step\n"
     ]
    }
   ],
   "source": [
    "ytestR = [np.argmax(val) for val in ytest]\n",
    "ytestP = [np.argmax(val) for val in model.predict(xtest)]"
   ]
  },
  {
   "cell_type": "code",
   "execution_count": 24,
   "metadata": {},
   "outputs": [
    {
     "data": {
      "text/plain": [
       "array([[3239,  489,    0,    0,    0],\n",
       "       [ 104, 3558,   26,    7,   15],\n",
       "       [   0,    8, 3781,    0,    0],\n",
       "       [   0,    0,    0, 3755,    2],\n",
       "       [   0,    0,    1,  411, 3354]])"
      ]
     },
     "execution_count": 24,
     "metadata": {},
     "output_type": "execute_result"
    }
   ],
   "source": [
    "confusion_matrix(ytrainR,ytrainP)"
   ]
  },
  {
   "cell_type": "code",
   "execution_count": 25,
   "metadata": {},
   "outputs": [
    {
     "data": {
      "text/plain": [
       "array([[1075,  197,    0,    0,    0],\n",
       "       [  33, 1239,   11,    3,    4],\n",
       "       [   0,    0, 1211,    0,    0],\n",
       "       [   0,    0,    0, 1237,    6],\n",
       "       [   0,    0,    1,  146, 1087]])"
      ]
     },
     "execution_count": 25,
     "metadata": {},
     "output_type": "execute_result"
    }
   ],
   "source": [
    "confusion_matrix(ytestR,ytestP)"
   ]
  },
  {
   "cell_type": "code",
   "execution_count": 26,
   "metadata": {},
   "outputs": [],
   "source": [
    "cancer_cells = ['lung_aca' , 'lung_scc' , 'lung_n' , 'colon_aca' , 'colon_n']"
   ]
  },
  {
   "cell_type": "code",
   "execution_count": 27,
   "metadata": {},
   "outputs": [
    {
     "name": "stdout",
     "output_type": "stream",
     "text": [
      "1/1 [==============================] - 0s 77ms/step\n"
     ]
    },
    {
     "data": {
      "text/plain": [
       "array([[0.008031  , 0.03479657, 0.00237884, 0.99996156, 0.97296643]],\n",
       "      dtype=float32)"
      ]
     },
     "execution_count": 27,
     "metadata": {},
     "output_type": "execute_result"
    }
   ],
   "source": [
    "model.predict(xtest[689].reshape(1,70,70,3))"
   ]
  },
  {
   "cell_type": "code",
   "execution_count": 32,
   "metadata": {},
   "outputs": [
    {
     "name": "stdout",
     "output_type": "stream",
     "text": [
      "1/1 [==============================] - 0s 27ms/step\n",
      "Predicted Value- lung_n\n",
      "Real Value- lung_n\n"
     ]
    },
    {
     "data": {
      "image/png": "[encoded data removed]",
      "text/plain": [
       "<Figure size 640x480 with 1 Axes>"
      ]
     },
     "metadata": {},
     "output_type": "display_data"
    }
   ],
   "source": [
    "print('Predicted Value-' , cancer_cells[np.argmax(model.predict(xtest[56].reshape(1,70,70,3)))])\n",
    "print('Real Value-' , cancer_cells[np.argmax(ytest[56])])\n",
    "\n",
    "plt.imshow(xtest[56])\n",
    "plt.show()"
   ]
  },
  {
   "cell_type": "code",
   "execution_count": 29,
   "metadata": {},
   "outputs": [],
   "source": [
    "model.save('lung_coln.h5')"
   ]
  },
  {
   "cell_type": "code",
   "execution_count": null,
   "metadata": {},
   "outputs": [],
   "source": []
  }
 ],
 "metadata": {
  "kernelspec": {
   "display_name": "Python 3",
   "language": "python",
   "name": "python3"
  },
  "language_info": {
   "codemirror_mode": {
    "name": "ipython",
    "version": 3
   },
   "file_extension": ".py",
   "mimetype": "text/x-python",
   "name": "python",
   "nbconvert_exporter": "python",
   "pygments_lexer": "ipython3",
   "version": "3.10.6"
  },
  "orig_nbformat": 4,
  "vscode": {
   "interpreter": {
    "hash": "916dbcbb3f70747c44a77c7bcd40155683ae19c65e1c03b4aa3499c5328201f1"
   }
  }
 },
 "nbformat": 4,
 "nbformat_minor": 2
}
